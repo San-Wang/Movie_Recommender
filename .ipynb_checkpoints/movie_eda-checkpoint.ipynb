{
 "cells": [
  {
   "cell_type": "markdown",
   "metadata": {},
   "source": [
    "## About my movie recommender demo  \n",
    "[data source](https://www.kaggle.com/rounakbanik/the-movies-dataset/data)  \n",
    "**Overview:** an ensemble data from\n",
    "1. GroupLens(MovieLens): movie links and rating  \n",
    "2. TMDB(The Movie DB) API: credits; keywords; metadata    \n",
    "\n",
    "**Content:**  \n",
    "45,000 movies in Full Movielens dataset, 26 million ratings from 270,000 users  \n",
    "keywords/credits in the form of a string field JSON object\n"
   ]
  },
  {
   "cell_type": "code",
   "execution_count": 1,
   "metadata": {
    "collapsed": true
   },
   "outputs": [],
   "source": [
    "%matplotlib inline\n",
    "import pandas as pd\n",
    "import numpy as np\n",
    "import matplotlib.pyplot as plt\n",
    "import seaborn as sns\n",
    "import os"
   ]
  },
  {
   "cell_type": "code",
   "execution_count": 2,
   "metadata": {},
   "outputs": [
    {
     "name": "stderr",
     "output_type": "stream",
     "text": [
      "/Users/San/anaconda3/lib/python3.6/site-packages/IPython/core/interactiveshell.py:2698: DtypeWarning: Columns (10) have mixed types. Specify dtype option on import or set low_memory=False.\n",
      "  interactivity=interactivity, compiler=compiler, result=result)\n"
     ]
    }
   ],
   "source": [
    "DATA_DIR = '/Users/San/SelfLearning/RecommendationSystem/Movie_Recommendation/data/'\n",
    "raw = pd.read_csv(os.path.join(DATA_DIR, 'movies_metadata.csv'), encoding='latin-1')"
   ]
  },
  {
   "cell_type": "code",
   "execution_count": null,
   "metadata": {
    "collapsed": true
   },
   "outputs": [],
   "source": [
    "raw.info(memory_usage='deep')"
   ]
  },
  {
   "cell_type": "code",
   "execution_count": null,
   "metadata": {
    "collapsed": true
   },
   "outputs": [],
   "source": [
    "raw.head(n=2).transpose()"
   ]
  },
  {
   "cell_type": "code",
   "execution_count": null,
   "metadata": {
    "collapsed": true
   },
   "outputs": [],
   "source": [
    "raw.describe()"
   ]
  },
  {
   "cell_type": "code",
   "execution_count": null,
   "metadata": {
    "collapsed": true
   },
   "outputs": [],
   "source": [
    "def describe_categorical(X):\n",
    "    from IPython.display import display, HTML\n",
    "    display(HTML(X[X.columns[X.dtypes == 'object']].describe().to_html()))\n",
    "describe_categorical(raw) "
   ]
  },
  {
   "cell_type": "code",
   "execution_count": null,
   "metadata": {
    "collapsed": true
   },
   "outputs": [],
   "source": [
    "def count_var_uniq_value(df):\n",
    "    '''\n",
    "    calculate unique value in each variable, and sort decendingly\n",
    "    -----------\n",
    "    :itype pd.DataFrame\n",
    "    :rtype pd.Series\n",
    "    '''\n",
    "    import pandas as pd\n",
    "    sort = pd.Series([len(df[x].value_counts().index) for x in df.columns], index=df.columns).sort_values(ascending=False)\n",
    "    return sort\n",
    "count_var_uniq_value(raw)"
   ]
  },
  {
   "cell_type": "code",
   "execution_count": null,
   "metadata": {
    "collapsed": true
   },
   "outputs": [],
   "source": [
    "def seperate_var(df, max_cat):\n",
    "    '''\n",
    "    seperate variables into boolean, multi-category and continous\n",
    "    -----------------\n",
    "    :itype\n",
    "        df: pd.DataFrame\n",
    "        max_cat: int (maximun number of unique values in multi-categorical variables)\n",
    "    :rtype 3 lists\n",
    "        three lists: v_boolean, v_multi, v_con\n",
    "    '''\n",
    "    v_boolean = []\n",
    "    v_multi = []\n",
    "    v_con = []\n",
    "    for c in df.columns:\n",
    "        num_value = len(df[c].value_counts().index)\n",
    "        try:\n",
    "            num_value >1\n",
    "        except:\n",
    "            print('column {} has less than 2 unique values'.format(c))\n",
    "        if num_value <= 2:\n",
    "            v_boolean.append(c)\n",
    "        elif num_value <= max_cat:\n",
    "            v_multi.append(c)\n",
    "        else:\n",
    "            v_con.append(c)\n",
    "    print('boolean variable:\\n', v_boolean, '\\n')\n",
    "    print(\"multi-categorical variables:\\n\", v_multi, '\\n')     \n",
    "    print(\"continuous/text variables:\\n\", v_con)\n",
    "\n",
    "    return v_boolean, v_multi, v_con\n",
    "\n",
    "bi, multi, con = seperate_var(raw, 89)"
   ]
  },
  {
   "cell_type": "markdown",
   "metadata": {},
   "source": [
    "raw['year'] = pd.to_datetime(raw['release_date'], errors='coerce').apply(lambda x: str(x).split('-')[0] if x != np.nan else np.nan)\n",
    "raw.year.value_counts().plot()"
   ]
  },
  {
   "cell_type": "markdown",
   "metadata": {},
   "source": [
    "Here we need to be aware that the majority of the movie data the demo use is recent movies, which also make sense to put more weight on recent movies than old movies to make recommendation"
   ]
  },
  {
   "cell_type": "code",
   "execution_count": null,
   "metadata": {
    "collapsed": true
   },
   "outputs": [],
   "source": [
    "raw.describe()"
   ]
  },
  {
   "cell_type": "code",
   "execution_count": null,
   "metadata": {
    "collapsed": true
   },
   "outputs": [],
   "source": [
    "!ls"
   ]
  },
  {
   "cell_type": "code",
   "execution_count": null,
   "metadata": {
    "collapsed": true
   },
   "outputs": [],
   "source": [
    "import Movie_Recommender"
   ]
  },
  {
   "cell_type": "code",
   "execution_count": null,
   "metadata": {
    "collapsed": true
   },
   "outputs": [],
   "source": [
    "os.getcwd()"
   ]
  },
  {
   "cell_type": "code",
   "execution_count": 42,
   "metadata": {},
   "outputs": [
    {
     "name": "stderr",
     "output_type": "stream",
     "text": [
      "/Users/San/anaconda3/lib/python3.6/site-packages/IPython/core/interactiveshell.py:2698: DtypeWarning: Columns (10) have mixed types. Specify dtype option on import or set low_memory=False.\n",
      "  interactivity=interactivity, compiler=compiler, result=result)\n"
     ]
    }
   ],
   "source": [
    "import pandas as pd\n",
    "import os\n",
    "DATA_DIR = 'data'\n",
    "raw = pd.read_csv(os.path.join(DATA_DIR, 'movies_metadata.csv'))\n"
   ]
  },
  {
   "cell_type": "code",
   "execution_count": 43,
   "metadata": {},
   "outputs": [
    {
     "data": {
      "text/html": [
       "<div>\n",
       "<style>\n",
       "    .dataframe thead tr:only-child th {\n",
       "        text-align: right;\n",
       "    }\n",
       "\n",
       "    .dataframe thead th {\n",
       "        text-align: left;\n",
       "    }\n",
       "\n",
       "    .dataframe tbody tr th {\n",
       "        vertical-align: top;\n",
       "    }\n",
       "</style>\n",
       "<table border=\"1\" class=\"dataframe\">\n",
       "  <thead>\n",
       "    <tr style=\"text-align: right;\">\n",
       "      <th></th>\n",
       "      <th>adult</th>\n",
       "      <th>belongs_to_collection</th>\n",
       "      <th>budget</th>\n",
       "      <th>genres</th>\n",
       "      <th>homepage</th>\n",
       "      <th>id</th>\n",
       "      <th>imdb_id</th>\n",
       "      <th>original_language</th>\n",
       "      <th>original_title</th>\n",
       "      <th>overview</th>\n",
       "      <th>...</th>\n",
       "      <th>release_date</th>\n",
       "      <th>revenue</th>\n",
       "      <th>runtime</th>\n",
       "      <th>spoken_languages</th>\n",
       "      <th>status</th>\n",
       "      <th>tagline</th>\n",
       "      <th>title</th>\n",
       "      <th>video</th>\n",
       "      <th>vote_average</th>\n",
       "      <th>vote_count</th>\n",
       "    </tr>\n",
       "  </thead>\n",
       "  <tbody>\n",
       "    <tr>\n",
       "      <th>0</th>\n",
       "      <td>False</td>\n",
       "      <td>{'id': 10194, 'name': 'Toy Story Collection', ...</td>\n",
       "      <td>30000000</td>\n",
       "      <td>[{'id': 16, 'name': 'Animation'}, {'id': 35, '...</td>\n",
       "      <td>http://toystory.disney.com/toy-story</td>\n",
       "      <td>862</td>\n",
       "      <td>tt0114709</td>\n",
       "      <td>en</td>\n",
       "      <td>Toy Story</td>\n",
       "      <td>Led by Woody, Andy's toys live happily in his ...</td>\n",
       "      <td>...</td>\n",
       "      <td>1995-10-30</td>\n",
       "      <td>373554033.0</td>\n",
       "      <td>81.0</td>\n",
       "      <td>[{'iso_639_1': 'en', 'name': 'English'}]</td>\n",
       "      <td>Released</td>\n",
       "      <td>NaN</td>\n",
       "      <td>Toy Story</td>\n",
       "      <td>False</td>\n",
       "      <td>7.7</td>\n",
       "      <td>5415.0</td>\n",
       "    </tr>\n",
       "    <tr>\n",
       "      <th>1</th>\n",
       "      <td>False</td>\n",
       "      <td>NaN</td>\n",
       "      <td>65000000</td>\n",
       "      <td>[{'id': 12, 'name': 'Adventure'}, {'id': 14, '...</td>\n",
       "      <td>NaN</td>\n",
       "      <td>8844</td>\n",
       "      <td>tt0113497</td>\n",
       "      <td>en</td>\n",
       "      <td>Jumanji</td>\n",
       "      <td>When siblings Judy and Peter discover an encha...</td>\n",
       "      <td>...</td>\n",
       "      <td>1995-12-15</td>\n",
       "      <td>262797249.0</td>\n",
       "      <td>104.0</td>\n",
       "      <td>[{'iso_639_1': 'en', 'name': 'English'}, {'iso...</td>\n",
       "      <td>Released</td>\n",
       "      <td>Roll the dice and unleash the excitement!</td>\n",
       "      <td>Jumanji</td>\n",
       "      <td>False</td>\n",
       "      <td>6.9</td>\n",
       "      <td>2413.0</td>\n",
       "    </tr>\n",
       "  </tbody>\n",
       "</table>\n",
       "<p>2 rows × 24 columns</p>\n",
       "</div>"
      ],
      "text/plain": [
       "   adult                              belongs_to_collection    budget  \\\n",
       "0  False  {'id': 10194, 'name': 'Toy Story Collection', ...  30000000   \n",
       "1  False                                                NaN  65000000   \n",
       "\n",
       "                                              genres  \\\n",
       "0  [{'id': 16, 'name': 'Animation'}, {'id': 35, '...   \n",
       "1  [{'id': 12, 'name': 'Adventure'}, {'id': 14, '...   \n",
       "\n",
       "                               homepage    id    imdb_id original_language  \\\n",
       "0  http://toystory.disney.com/toy-story   862  tt0114709                en   \n",
       "1                                   NaN  8844  tt0113497                en   \n",
       "\n",
       "  original_title                                           overview  \\\n",
       "0      Toy Story  Led by Woody, Andy's toys live happily in his ...   \n",
       "1        Jumanji  When siblings Judy and Peter discover an encha...   \n",
       "\n",
       "     ...     release_date      revenue runtime  \\\n",
       "0    ...       1995-10-30  373554033.0    81.0   \n",
       "1    ...       1995-12-15  262797249.0   104.0   \n",
       "\n",
       "                                    spoken_languages    status  \\\n",
       "0           [{'iso_639_1': 'en', 'name': 'English'}]  Released   \n",
       "1  [{'iso_639_1': 'en', 'name': 'English'}, {'iso...  Released   \n",
       "\n",
       "                                     tagline      title  video vote_average  \\\n",
       "0                                        NaN  Toy Story  False          7.7   \n",
       "1  Roll the dice and unleash the excitement!    Jumanji  False          6.9   \n",
       "\n",
       "  vote_count  \n",
       "0     5415.0  \n",
       "1     2413.0  \n",
       "\n",
       "[2 rows x 24 columns]"
      ]
     },
     "execution_count": 43,
     "metadata": {},
     "output_type": "execute_result"
    }
   ],
   "source": [
    "raw.head(n=2)"
   ]
  },
  {
   "cell_type": "code",
   "execution_count": 46,
   "metadata": {
    "collapsed": true
   },
   "outputs": [],
   "source": [
    "import ast\n",
    "raw['genre_clean']=raw['genres'].apply(ast.literal_eval).apply(lambda x: [i['name'] for i in x] if isinstance(x, list) else [])"
   ]
  },
  {
   "cell_type": "code",
   "execution_count": 49,
   "metadata": {
    "collapsed": true
   },
   "outputs": [
    {
     "data": {
      "text/plain": [
       "['Drama']                                                          5000\n",
       "['Comedy']                                                         3621\n",
       "['Documentary']                                                    2723\n",
       "[]                                                                 2442\n",
       "['Drama', 'Romance']                                               1301\n",
       "['Comedy', 'Drama']                                                1135\n",
       "['Horror']                                                          974\n",
       "['Comedy', 'Romance']                                               930\n",
       "['Comedy', 'Drama', 'Romance']                                      593\n",
       "['Drama', 'Comedy']                                                 532\n",
       "['Horror', 'Thriller']                                              528\n",
       "['Drama', 'Thriller']                                               497\n",
       "['Thriller']                                                        465\n",
       "['Crime', 'Drama']                                                  430\n",
       "['Romance', 'Drama']                                                343\n",
       "['Western']                                                         318\n",
       "['Action', 'Thriller']                                              301\n",
       "['Drama', 'Foreign']                                                283\n",
       "['Action']                                                          278\n",
       "['Drama', 'History']                                                267\n",
       "['Animation']                                                       242\n",
       "['Action', 'Comedy']                                                242\n",
       "['Crime', 'Drama', 'Thriller']                                      225\n",
       "['Horror', 'Science Fiction']                                       222\n",
       "['Romance', 'Comedy']                                               213\n",
       "['Drama', 'War']                                                    204\n",
       "['Drama', 'Comedy', 'Romance']                                      203\n",
       "['Science Fiction']                                                 198\n",
       "['Drama', 'Family']                                                 197\n",
       "['Comedy', 'Family']                                                192\n",
       "                                                                   ... \n",
       "['Comedy', 'Family', 'Romance', 'Science Fiction']                    1\n",
       "['Comedy', 'Family', 'Animation', 'Adventure']                        1\n",
       "['Drama', 'Fantasy', 'Comedy', 'Family']                              1\n",
       "['Drama', 'Thriller', 'Mystery', 'Music', 'Foreign']                  1\n",
       "['Animation', 'Comedy', 'Foreign']                                    1\n",
       "['Drama', 'Thriller', 'Crime', 'History']                             1\n",
       "['Animation', 'History', 'Drama', 'War']                              1\n",
       "['Adventure', 'Family', 'Drama', 'Romance']                           1\n",
       "['Action', 'Adventure', 'Drama', 'History', 'Thriller', 'War']        1\n",
       "['Animation', 'History']                                              1\n",
       "['Comedy', 'Action', 'Documentary']                                   1\n",
       "['Action', 'Adventure', 'History', 'Western']                         1\n",
       "['Drama', 'Comedy', 'Science Fiction', 'Family', 'Foreign']           1\n",
       "['Thriller', 'Adventure', 'Science Fiction', 'Horror']                1\n",
       "['Documentary', 'History', 'TV Movie']                                1\n",
       "['TV Movie', 'Horror', 'Family', 'Fantasy']                           1\n",
       "['Science Fiction', 'Action', 'Adventure', 'Fantasy']                 1\n",
       "['Animation', 'Fantasy', 'Music']                                     1\n",
       "['Science Fiction', 'Action', 'Adventure', 'Drama']                   1\n",
       "['Action', 'Crime', 'Drama', 'Mystery']                               1\n",
       "['Action', 'Romance', 'War']                                          1\n",
       "['Crime', 'Drama', 'Romance', 'Western']                              1\n",
       "['Drama', 'Action', 'Thriller', 'Science Fiction', 'Foreign']         1\n",
       "['Action', 'Animation', 'Family', 'Fantasy', 'Science Fiction']       1\n",
       "['Comedy', 'Horror', 'Romance', 'Thriller']                           1\n",
       "['Comedy', 'Action', 'Drama', 'Foreign']                              1\n",
       "['Music', 'Animation', 'Fantasy']                                     1\n",
       "['Fantasy', 'Comedy', 'Science Fiction', 'Music']                     1\n",
       "['Fantasy', 'Horror', 'Action', 'Science Fiction']                    1\n",
       "['Action', 'Comedy', 'Drama', 'Romance', 'Science Fiction']           1\n",
       "Name: genre_clean, Length: 4069, dtype: int64"
      ]
     },
     "execution_count": 49,
     "metadata": {},
     "output_type": "execute_result"
    }
   ],
   "source": [
    "raw['genre_clean'].astype('str').value_counts()"
   ]
  },
  {
   "cell_type": "code",
   "execution_count": 54,
   "metadata": {},
   "outputs": [
    {
     "data": {
      "text/plain": [
       "Index(['adult', 'belongs_to_collection', 'budget', 'genres', 'homepage', 'id',\n",
       "       'imdb_id', 'original_language', 'original_title', 'overview',\n",
       "       'popularity', 'poster_path', 'production_companies',\n",
       "       'production_countries', 'release_date', 'revenue', 'runtime',\n",
       "       'spoken_languages', 'status', 'tagline', 'title', 'video',\n",
       "       'vote_average', 'vote_count', 'genre_clean'],\n",
       "      dtype='object')"
      ]
     },
     "execution_count": 54,
     "metadata": {},
     "output_type": "execute_result"
    }
   ],
   "source": [
    "raw.columns"
   ]
  },
  {
   "cell_type": "code",
   "execution_count": 81,
   "metadata": {},
   "outputs": [
    {
     "data": {
      "text/plain": [
       "0    1995\n",
       "1    1995\n",
       "2    1995\n",
       "3    1995\n",
       "4    1995\n",
       "Name: release_date, dtype: object"
      ]
     },
     "execution_count": 81,
     "metadata": {},
     "output_type": "execute_result"
    }
   ],
   "source": [
    "pd.to_datetime(raw['release_date'], errors='coerce').apply(lambda x: str(x).split('-')[0] if x != np.nan else np.nan).head()"
   ]
  },
  {
   "cell_type": "code",
   "execution_count": 56,
   "metadata": {
    "collapsed": true
   },
   "outputs": [],
   "source": [
    "form = '%Y-%m-%d'\n",
    "def get_date(date_string, form, aim):\n",
    "    '''\n",
    "    :itype: \n",
    "    aim: 'year'/'month'/'day'\n",
    "    date_string: string\n",
    "    form: date format\n",
    "    '''\n",
    "    import datetime as dt\n",
    "    try:\n",
    "        strp = dt.datetime.strptime(date_string,form)\n",
    "        if aim == 'year':\n",
    "            return strp.year\n",
    "        elif aim == 'month':\n",
    "            return strp.month\n",
    "        elif aim == 'day':\n",
    "            return strp.day\n",
    "        #return [strp.year, strp.month, strp.day]\n",
    "    except:\n",
    "        return np.nan"
   ]
  },
  {
   "cell_type": "code",
   "execution_count": 112,
   "metadata": {
    "collapsed": true
   },
   "outputs": [],
   "source": [
    "def get_year(date_string):\n",
    "    import datetime as dt\n",
    "    try:\n",
    "        strp = dt.datetime.strptime(date_string,'%Y-%m-%d')\n",
    "        return strp.year\n",
    "    except:\n",
    "        return np.nan\n",
    "    \n",
    "def get_month(date_string):\n",
    "    import datetime as dt\n",
    "    try:\n",
    "        strp = dt.datetime.strptime(date_string,'%Y-%m-%d')\n",
    "        return strp.month\n",
    "    except:\n",
    "        return np.nan"
   ]
  },
  {
   "cell_type": "code",
   "execution_count": 60,
   "metadata": {
    "collapsed": true
   },
   "outputs": [],
   "source": [
    "raw['year'] = raw['release_date'].apply(lambda x: get_year(x,form,'year'))\n",
    "raw['month'] = raw['release_date'].apply(lambda x: get_year(x,form,'month'))"
   ]
  },
  {
   "cell_type": "code",
   "execution_count": 88,
   "metadata": {},
   "outputs": [
    {
     "data": {
      "text/plain": [
       "<matplotlib.axes._subplots.AxesSubplot at 0x1a4378f7b8>"
      ]
     },
     "execution_count": 88,
     "metadata": {},
     "output_type": "execute_result"
    },
    {
     "data": {
      "image/png": "[encoded data removed]",
      "text/plain": [
       "<matplotlib.figure.Figure at 0x1a4376f8d0>"
      ]
     },
     "metadata": {},
     "output_type": "display_data"
    }
   ],
   "source": [
    "import seaborn as sns\n",
    "\n",
    "sns.countplot(x='year',data=raw)"
   ]
  },
  {
   "cell_type": "code",
   "execution_count": 71,
   "metadata": {},
   "outputs": [
    {
     "data": {
      "text/plain": [
       "<matplotlib.axes._subplots.AxesSubplot at 0x1a6d64e400>"
      ]
     },
     "execution_count": 71,
     "metadata": {},
     "output_type": "execute_result"
    },
    {
     "data": {
      "image/png": "[encoded data removed]",
      "text/plain": [
       "<matplotlib.figure.Figure at 0x1a13354c18>"
      ]
     },
     "metadata": {},
     "output_type": "display_data"
    }
   ],
   "source": [
    "day_order = ['Mon', 'Tue', 'Wed', 'Thu', 'Fri', 'Sat', 'Sun']\n",
    "sns.countplot(x='month',data=raw)"
   ]
  },
  {
   "cell_type": "code",
   "execution_count": 140,
   "metadata": {},
   "outputs": [
    {
     "data": {
      "text/plain": [
       "Index(['adult', 'belongs_to_collection', 'budget', 'genres', 'homepage', 'id',\n",
       "       'imdb_id', 'original_language', 'original_title', 'overview',\n",
       "       'popularity', 'poster_path', 'production_companies',\n",
       "       'production_countries', 'release_date', 'revenue', 'runtime',\n",
       "       'spoken_languages', 'status', 'tagline', 'title', 'video',\n",
       "       'vote_average', 'vote_count', 'year', 'month'],\n",
       "      dtype='object')"
      ]
     },
     "execution_count": 140,
     "metadata": {},
     "output_type": "execute_result"
    }
   ],
   "source": [
    "raw.columns"
   ]
  },
  {
   "cell_type": "code",
   "execution_count": 5,
   "metadata": {},
   "outputs": [],
   "source": [
    "def poster_html(poster_path):\n",
    "    if isinstance(poster_path, str):\n",
    "        html = \"<img style='width: 120px; margin: 0px;'\\\n",
    "        src='http://image.tmdb.org/t/p/w185/%s'/>\"%poster_path \n",
    "    else:\n",
    "        html = 'not available'\n",
    "    return html\n",
    "\n",
    "raw['poster_html']=raw['poster_path'].apply(lambda x: poster_html(x))"
   ]
  },
  {
   "cell_type": "code",
   "execution_count": 13,
   "metadata": {},
   "outputs": [
    {
     "data": {
      "text/html": [
       "<table border=\"1\" class=\"dataframe\">\n",
       "  <thead>\n",
       "    <tr style=\"text-align: right;\">\n",
       "      <th></th>\n",
       "      <th>id</th>\n",
       "      <th>poster_html</th>\n",
       "      <th>title</th>\n",
       "    </tr>\n",
       "  </thead>\n",
       "  <tbody>\n",
       "    <tr>\n",
       "      <th>0</th>\n",
       "      <td>862</td>\n",
       "      <td>&lt;img style='width: 120px; margin: 0px;'        src='http://image.tmdb.org/t/p/w185//rhIRbceoE9lR...</td>\n",
       "      <td>Toy Story</td>\n",
       "    </tr>\n",
       "    <tr>\n",
       "      <th>1</th>\n",
       "      <td>8844</td>\n",
       "      <td>&lt;img style='width: 120px; margin: 0px;'        src='http://image.tmdb.org/t/p/w185//vzmL6fP7aPKN...</td>\n",
       "      <td>Jumanji</td>\n",
       "    </tr>\n",
       "    <tr>\n",
       "      <th>2</th>\n",
       "      <td>15602</td>\n",
       "      <td>&lt;img style='width: 120px; margin: 0px;'        src='http://image.tmdb.org/t/p/w185//6ksm1sjKMFLb...</td>\n",
       "      <td>Grumpier Old Men</td>\n",
       "    </tr>\n",
       "  </tbody>\n",
       "</table>"
      ],
      "text/plain": [
       "<IPython.core.display.HTML object>"
      ]
     },
     "execution_count": 13,
     "metadata": {},
     "output_type": "execute_result"
    }
   ],
   "source": [
    "HTML(raw[['id','poster_html','title']][:3].to_html())"
   ]
  },
  {
   "cell_type": "code",
   "execution_count": 3,
   "metadata": {
    "collapsed": true
   },
   "outputs": [],
   "source": [
    "base_poster_url = 'http://image.tmdb.org/t/p/w185/'\n",
    "raw['poster_path'] = base_poster_url + raw['poster_path']"
   ]
  },
  {
   "cell_type": "code",
   "execution_count": 163,
   "metadata": {},
   "outputs": [
    {
     "data": {
      "image/jpeg": "[encoded data removed]",
      "text/plain": [
       "<IPython.core.display.Image object>"
      ]
     },
     "execution_count": 163,
     "metadata": {},
     "output_type": "execute_result"
    }
   ],
   "source": [
    "Image('http://image.tmdb.org/t/p/w185//rhIRbceoE9lR4veEXuwCC2wARtG.jpg')"
   ]
  },
  {
   "cell_type": "code",
   "execution_count": 42,
   "metadata": {
    "collapsed": true
   },
   "outputs": [],
   "source": [
    "from IPython.display import HTML\n",
    "from IPython.display import display\n",
    "\n",
    "def poster_html(df):\n",
    "    df['poster_html'] = df['poster_path'].copy\n",
    "    for ref in df.poster_path:\n",
    "        if isinstance(ref, str):\n",
    "            link = 'http://image.tmdb.org/t/p/w185/' + ref\n",
    "            html = \"<img style='width: 120px; margin: 0px;' src='%s' />\" %link\n",
    "            df['poster_html'][df['poster_path']==ref] = html\n",
    "    return df"
   ]
  },
  {
   "cell_type": "code",
   "execution_count": null,
   "metadata": {
    "collapsed": true
   },
   "outputs": [],
   "source": []
  },
  {
   "cell_type": "code",
   "execution_count": null,
   "metadata": {
    "collapsed": true
   },
   "outputs": [],
   "source": []
  }
 ],
 "metadata": {
  "kernelspec": {
   "display_name": "Python 3",
   "language": "python",
   "name": "python3"
  },
  "language_info": {
   "codemirror_mode": {
    "name": "ipython",
    "version": 3
   },
   "file_extension": ".py",
   "mimetype": "text/x-python",
   "name": "python",
   "nbconvert_exporter": "python",
   "pygments_lexer": "ipython3",
   "version": "3.6.2"
  }
 },
 "nbformat": 4,
 "nbformat_minor": 2
}
